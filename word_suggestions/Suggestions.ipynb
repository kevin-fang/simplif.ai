{
 "cells": [
  {
   "cell_type": "code",
   "execution_count": 1,
   "metadata": {},
   "outputs": [
    {
     "data": {
      "text/plain": [
       "'\\n- Put important ideas/new topics at the end of the sentence to emphasize\\n- Try to avoid too many prepositional phrases\\n- Try to avoid large words. Are there synonyms you could use instead?\\n- Try to avoid putting more than four nouns next to each other\\n- Try to avoid the passive voice.\\n'"
      ]
     },
     "execution_count": 1,
     "metadata": {},
     "output_type": "execute_result"
    }
   ],
   "source": [
    "\"\"\"\n",
    "- Put important ideas/new topics at the end of the sentence to emphasize\n",
    "- Try to avoid too many prepositional phrases\n",
    "- Try to avoid large words. Are there synonyms you could use instead? --> done\n",
    "- Try to avoid noun clusters (more than 3 nouns next to each other)\n",
    "- Try to avoid the passive voice. --> done\n",
    "\"\"\""
   ]
  },
  {
   "cell_type": "code",
   "execution_count": 2,
   "metadata": {
    "collapsed": true
   },
   "outputs": [],
   "source": [
    "replacements = {\n",
    "    \"contingent upon\": \"dependent on\",\n",
    "    \"endeaver\": \"try\",\n",
    "    \"utilization\": \"use\",\n",
    "    \"termination\": \"end\",\n",
    "    \"initiate\": \"begin\",\n",
    "    \"is desirous of\": \"wants\",\n",
    "    \"cognizant of\": \"aware of\",\n",
    "    \"ascertain\": \"find out\",\n",
    "    \"facilitate\": \"help\",\n",
    "    \"implement\": \"start/carry out/begin\",\n",
    "    \"deem\": \"think\",\n",
    "    \"envisage\": \"think/regard/see\",\n",
    "    \"advert to\": \"mention\",\n",
    "    \"apprise\": \"inform\",\n",
    "    \"eventuate\": \"happen\",\n",
    "    \"transpire\": \"happen\",\n",
    "    \"render\": \"make/give\",\n",
    "    \"transmit\": \"send\",\n",
    "    \"prior to\": \"before\",\n",
    "    \"subsequent\": \"after\",\"\"\n",
    "    \"for the reason that\": \"because\",\n",
    "    \"owing to the fact that\": \"because\",\n",
    "    \"in light of the fact that\": \"because\",\n",
    "    \"considering the fact that\": \"because\",\n",
    "    \"on the grounds that\": \"because\",\n",
    "    \"this is why\": \"because\",\n",
    "    \"despite the fact that\": \"although\",\n",
    "    \"regardless of the fact that\": \"although\",\n",
    "    \"notwithstanding the fact that\": \"although\",\n",
    "    \"in the event that\": \"if\",\n",
    "    \"if it should transpire that\": \"if\",\n",
    "    \"if it should happen that\": \"if\",\n",
    "    \"under circumstances in which\": \"if\",\n",
    "    \"on the occasion of\": \"when\",\n",
    "    \"in a situation in which\": \"when\",\n",
    "    \"under circumstances in which\": \"when\",\n",
    "    \"as regards\": \"about\",\n",
    "    \"in reference to\": \"about\",\n",
    "    \"with regard to\": \"about\",\n",
    "    \"concerning the matter of\": \"about\",\n",
    "    \"is able to\": \"can\",\n",
    "    \"in a position to\": \"can\",\n",
    "    \"has the opportunity to\": \"can\",\n",
    "    \"has the capacity for\": \"can\",\n",
    "    \"has the ability to\": \"can\",\n",
    "    \"prior to\": \"before/after/as\",\n",
    "    \"in anticipation of\": \"before/after/as\",\n",
    "    \"subsequent to\": \"before/after/as\",\n",
    "    \"following on\": \"before/after/as\",\n",
    "    \"at the same time as\": \"before/after/as\",\n",
    "    \"simultaneously with\": \"before/after/as\"\n",
    "}"
   ]
  },
  {
   "cell_type": "code",
   "execution_count": 3,
   "metadata": {
    "collapsed": true
   },
   "outputs": [],
   "source": [
    "bad_sentence = \"I did not eat dinner last night for the reason that I am in a position to endeaver to finish my hackathon project. In the event that, despite the fact that I did not sleep, I do not finish, I would deem myself worthless.\""
   ]
  },
  {
   "cell_type": "code",
   "execution_count": 4,
   "metadata": {},
   "outputs": [
    {
     "data": {
      "text/plain": [
       "'I did not eat dinner last night for the reason that I am in a position to endeaver to finish my hackathon project. In the event that, despite the fact that I did not sleep, I do not finish, I would deem myself worthless.'"
      ]
     },
     "execution_count": 4,
     "metadata": {},
     "output_type": "execute_result"
    }
   ],
   "source": [
    "bad_sentence"
   ]
  },
  {
   "cell_type": "code",
   "execution_count": 5,
   "metadata": {},
   "outputs": [
    {
     "name": "stdout",
     "output_type": "stream",
     "text": [
      "endeaver\n",
      "deem\n",
      "for the reason that\n",
      "despite the fact that\n",
      "in a position to\n"
     ]
    }
   ],
   "source": [
    "for item in replacements:\n",
    "    if item in bad_sentence:\n",
    "        print(item)\n",
    "        loc = bad_sentence.find(item)\n",
    "        bad_sentence = bad_sentence[:loc] + replacements[item] + bad_sentence[loc + len(item):]"
   ]
  },
  {
   "cell_type": "code",
   "execution_count": 6,
   "metadata": {},
   "outputs": [
    {
     "data": {
      "text/plain": [
       "'I did not eat dinner last night because I am can try to finish my hackathon project. In the event that, although I did not sleep, I do not finish, I would think myself worthless.'"
      ]
     },
     "execution_count": 6,
     "metadata": {},
     "output_type": "execute_result"
    }
   ],
   "source": [
    "bad_sentence"
   ]
  },
  {
   "cell_type": "code",
   "execution_count": 9,
   "metadata": {
    "collapsed": true
   },
   "outputs": [],
   "source": [
    "from ispassive import Tagger\n",
    "t = Tagger()"
   ]
  },
  {
   "cell_type": "code",
   "execution_count": 12,
   "metadata": {},
   "outputs": [
    {
     "data": {
      "text/plain": [
       "False"
      ]
     },
     "execution_count": 12,
     "metadata": {},
     "output_type": "execute_result"
    }
   ],
   "source": [
    "t.is_passive(\"I make mistakes\")"
   ]
  },
  {
   "cell_type": "code",
   "execution_count": 13,
   "metadata": {},
   "outputs": [
    {
     "data": {
      "text/plain": [
       "True"
      ]
     },
     "execution_count": 13,
     "metadata": {},
     "output_type": "execute_result"
    }
   ],
   "source": [
    "t.is_passive(\"Mistakes were made\")"
   ]
  },
  {
   "cell_type": "code",
   "execution_count": 21,
   "metadata": {
    "collapsed": true
   },
   "outputs": [],
   "source": [
    "import nltk"
   ]
  },
  {
   "cell_type": "code",
   "execution_count": 27,
   "metadata": {
    "collapsed": true
   },
   "outputs": [],
   "source": [
    "noun_example = \"this was the large fishing bass hunt competition\""
   ]
  },
  {
   "cell_type": "code",
   "execution_count": 29,
   "metadata": {
    "collapsed": true
   },
   "outputs": [],
   "source": [
    "def detect_consecutive_nouns(sentence):\n",
    "    text = nltk.word_tokenize(sentence)\n",
    "    consecutive_nouns = 0\n",
    "    for _, part_of_speech in nltk.pos_tag(text):\n",
    "        if part_of_speech == 'NN':\n",
    "            consecutive_nouns += 1\n",
    "        else:\n",
    "            consecutive_nouns = 0\n",
    "        \n",
    "        if consecutive_nouns >= 3:\n",
    "            return \"You have a shit sentence\""
   ]
  },
  {
   "cell_type": "code",
   "execution_count": 30,
   "metadata": {},
   "outputs": [
    {
     "data": {
      "text/plain": [
       "'You have a shit sentence'"
      ]
     },
     "execution_count": 30,
     "metadata": {},
     "output_type": "execute_result"
    }
   ],
   "source": [
    "detect_consecutive_nouns(noun_example)"
   ]
  },
  {
   "cell_type": "code",
   "execution_count": null,
   "metadata": {
    "collapsed": true
   },
   "outputs": [],
   "source": []
  }
 ],
 "metadata": {
  "kernelspec": {
   "display_name": "Python 3",
   "language": "python",
   "name": "python3"
  },
  "language_info": {
   "codemirror_mode": {
    "name": "ipython",
    "version": 3
   },
   "file_extension": ".py",
   "mimetype": "text/x-python",
   "name": "python",
   "nbconvert_exporter": "python",
   "pygments_lexer": "ipython3",
   "version": "3.6.3"
  }
 },
 "nbformat": 4,
 "nbformat_minor": 2
}
