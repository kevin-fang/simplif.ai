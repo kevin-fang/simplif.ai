***REMOVED***
 "cells": [
  ***REMOVED***
   "cell_type": "code",
   "execution_count": 1,
   "metadata": ***REMOVED***
    "collapsed": true
   ***REMOVED***,
   "outputs": [],
   "source": [
    "import wikipediaapi\n",
    "\n",
    "wiki = wikipediaapi.Wikipedia(\n",
    "        language='en',\n",
    "        extract_format=wikipediaapi.ExtractFormat.WIKI\n",
    ")"
   ]
  ***REMOVED***,
  ***REMOVED***
   "cell_type": "code",
   "execution_count": 70,
   "metadata": ***REMOVED***
    "collapsed": true
   ***REMOVED***,
   "outputs": [],
   "source": [
    "import json\n",
    "from pprint import pprint\n",
    "\n",
    "with open('articles.json') as f:\n",
    "    data = json.load(f)"
   ]
  ***REMOVED***,
  ***REMOVED***
   "cell_type": "code",
   "execution_count": 75,
   "metadata": ***REMOVED******REMOVED***,
   "outputs": [
    ***REMOVED***
     "data": ***REMOVED***
      "text/plain": [
       "['Donald_Trump',\n",
       " 'United_States',\n",
       " 'Bitcoin',\n",
       " 'Queen_Victoria',\n",
       " 'Elon_Musk',\n",
       " 'Facebook',\n",
       " 'Barack_Obama',\n",
       " 'YouTube',\n",
       " 'Aristotle',\n",
       " 'Statistics',\n",
       " 'Chemistry',\n",
       " 'Monkey',\n",
       " 'Chess',\n",
       " 'Computer',\n",
       " 'President',\n",
       " 'Business',\n",
       " 'Law',\n",
       " 'Government',\n",
       " 'Prison',\n",
       " 'Medicine',\n",
       " 'Disease',\n",
       " 'History']"
      ]
     ***REMOVED***,
     "execution_count": 75,
     "metadata": ***REMOVED******REMOVED***,
     "output_type": "execute_result"
    ***REMOVED***
   ],
   "source": [
    "articles = data['articles']\n",
    "articles"
   ]
  ***REMOVED***,
  ***REMOVED***
   "cell_type": "code",
   "execution_count": 76,
   "metadata": ***REMOVED******REMOVED***,
   "outputs": [],
   "source": [
    "page_py = wiki.page(articles[0])"
   ]
  ***REMOVED***,
  ***REMOVED***
   "cell_type": "code",
   "execution_count": 77,
   "metadata": ***REMOVED******REMOVED***,
   "outputs": [],
   "source": [
    "def save_sections(sections, lst, level=0):\n",
    "        for s in sections:\n",
    "            skip = [\"References\", \"Sources\", \"Further reading\", \"External links\", \"See also\", \"Other websites\"]\n",
    "            if not s.title in skip:\n",
    "                lst.append(s.text.strip())\n",
    "                save_sections(s.sections, lst, level + 1)"
   ]
  ***REMOVED***,
  ***REMOVED***
   "cell_type": "code",
   "execution_count": 78,
   "metadata": ***REMOVED***
    "collapsed": true
   ***REMOVED***,
   "outputs": [],
   "source": [
    "def get_simplified_page(wiki):\n",
    "    return wiki.langlinks['simple']"
   ]
  ***REMOVED***,
  ***REMOVED***
   "cell_type": "code",
   "execution_count": 97,
   "metadata": ***REMOVED******REMOVED***,
   "outputs": [],
   "source": [
    "all_complex = []\n",
    "all_simple = []\n",
    "for article in articles:\n",
    "    \n",
    "    # scrape wikipedia page\n",
    "    page = wiki.page(article)\n",
    "    complex_sections = []\n",
    "    save_sections(page.sections, complex_sections)\n",
    "    \n",
    "    simple_sections = []\n",
    "    save_sections(get_simplified_page(page).sections, simple_sections)\n",
    "    \n",
    "    # delete extra text and make it parseable\n",
    "    complex_sentences = \". \".join(complex_sections) \\\n",
    "        .replace(\"\\n\", \" \") \\\n",
    "        .replace('\"', '\\'') \\\n",
    "        .split(\". \")\n",
    "\n",
    "    complex_sentences = map(lambda x: x.strip(), complex_sentences)\n",
    "    complex_sentences = filter(lambda x: x != '', complex_sentences)\n",
    "    complex_sentences = list(complex_sentences)\n",
    "\n",
    "    simple_sentences = \". \".join(simple_sections) \\\n",
    "        .replace(\"\\n\", \" \") \\\n",
    "        .replace('\"', '\\'') \\\n",
    "        .split('. ')\n",
    "\n",
    "    simple_sentences = list(map(lambda x: x.strip(), simple_sentences))\n",
    "    simple_sentences = filter(lambda x: x != '', simple_sentences)\n",
    "    simple_sentences = list(simple_sentences)\n",
    "    \n",
    "    all_complex.extend(complex_sentences)\n",
    "    all_simple.extend(simple_sentences)\n",
    "#    print(complex_sentences)"
   ]
  ***REMOVED***,
  ***REMOVED***
   "cell_type": "code",
   "execution_count": 103,
   "metadata": ***REMOVED******REMOVED***,
   "outputs": [
    ***REMOVED***
     "data": ***REMOVED***
      "text/plain": [
       "1505"
      ]
     ***REMOVED***,
     "execution_count": 103,
     "metadata": ***REMOVED******REMOVED***,
     "output_type": "execute_result"
    ***REMOVED***
   ],
   "source": [
    "len(all_complex)"
   ]
  ***REMOVED***,
  ***REMOVED***
   "cell_type": "code",
   "execution_count": 101,
   "metadata": ***REMOVED******REMOVED***,
   "outputs": [
    ***REMOVED***
     "data": ***REMOVED***
      "text/plain": [
       "1505"
      ]
     ***REMOVED***,
     "execution_count": 101,
     "metadata": ***REMOVED******REMOVED***,
     "output_type": "execute_result"
    ***REMOVED***
   ],
   "source": [
    "len(all_simple)"
   ]
  ***REMOVED***,
  ***REMOVED***
   "cell_type": "code",
   "execution_count": 105,
   "metadata": ***REMOVED***
    "collapsed": true
   ***REMOVED***,
   "outputs": [],
   "source": [
    "with open('complex.txt', 'w') as file:\n",
    "    for i in all_complex:\n",
    "        file.write(i + '.\\n')\n",
    "with open('simple.txt', 'w') as file:\n",
    "    for i in all_simple:\n",
    "        file.write(i + '\\n')"
   ]
  ***REMOVED***,
  ***REMOVED***
   "cell_type": "code",
   "execution_count": null,
   "metadata": ***REMOVED***
    "collapsed": true
   ***REMOVED***,
   "outputs": [],
   "source": []
  ***REMOVED***
 ],
 "metadata": ***REMOVED***
  "kernelspec": ***REMOVED***
   "display_name": "Python 3",
   "language": "python",
   "name": "python3"
  ***REMOVED***,
  "language_info": ***REMOVED***
   "codemirror_mode": ***REMOVED***
    "name": "ipython",
    "version": 3
   ***REMOVED***,
   "file_extension": ".py",
   "mimetype": "text/x-python",
   "name": "python",
   "nbconvert_exporter": "python",
   "pygments_lexer": "ipython3",
   "version": "3.6.3"
  ***REMOVED***
 ***REMOVED***,
 "nbformat": 4,
 "nbformat_minor": 2
***REMOVED***
