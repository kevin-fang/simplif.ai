***REMOVED***
 "cells": [
  ***REMOVED***
   "cell_type": "code",
   "execution_count": 24,
   "metadata": ***REMOVED******REMOVED***,
   "outputs": [],
   "source": [
    "from keras.datasets import imdb\n",
    "from keras.models import load_model\n",
    "from keras.preprocessing import sequence\n",
    "from sklearn.model_selection import train_test_split\n",
    "import numpy as np"
   ]
  ***REMOVED***,
  ***REMOVED***
   "cell_type": "code",
   "execution_count": 52,
   "metadata": ***REMOVED***
    "collapsed": true
   ***REMOVED***,
   "outputs": [],
   "source": [
    "model = load_model(\"generated_data/complexity_classifier.h5\")"
   ]
  ***REMOVED***,
  ***REMOVED***
   "cell_type": "code",
   "execution_count": 53,
   "metadata": ***REMOVED***
    "collapsed": true
   ***REMOVED***,
   "outputs": [],
   "source": [
    "easy = \"hello my name is kevin and this is everything you need to know about me\""
   ]
  ***REMOVED***,
  ***REMOVED***
   "cell_type": "code",
   "execution_count": 54,
   "metadata": ***REMOVED***
    "collapsed": true
   ***REMOVED***,
   "outputs": [],
   "source": [
    "hard = \"Principal component analysis (PCA) is a statistical procedure that uses an orthogonal transformation to convert a set of observations of possibly correlated variables (entities each of which takes on various numerical values) into a set of values of linearly uncorrelated variables called principal components.\""
   ]
  ***REMOVED***,
  ***REMOVED***
   "cell_type": "code",
   "execution_count": 55,
   "metadata": ***REMOVED******REMOVED***,
   "outputs": [],
   "source": [
    "import pickle\n",
    "with open('generated_data/word_to_num.pkl', 'rb') as f:\n",
    "    reverse_dict = pickle.load(f)"
   ]
  ***REMOVED***,
  ***REMOVED***
   "cell_type": "code",
   "execution_count": 61,
   "metadata": ***REMOVED******REMOVED***,
   "outputs": [],
   "source": [
    "num_list = []\n",
    "for word in hard.split(\" \"):\n",
    "    if word in reverse_dict:\n",
    "        num_list.append(reverse_dict[word])\n",
    "sentence = np.array(num_list)"
   ]
  ***REMOVED***,
  ***REMOVED***
   "cell_type": "code",
   "execution_count": 62,
   "metadata": ***REMOVED******REMOVED***,
   "outputs": [],
   "source": [
    "max_wiki_length = 100\n",
    "sentence = sequence.pad_sequences(np.array([sentence]), maxlen=max_wiki_length)"
   ]
  ***REMOVED***,
  ***REMOVED***
   "cell_type": "code",
   "execution_count": 65,
   "metadata": ***REMOVED******REMOVED***,
   "outputs": [],
   "source": [
    "result = model.predict(sentence)[0][0]"
   ]
  ***REMOVED***,
  ***REMOVED***
   "cell_type": "raw",
   "metadata": ***REMOVED******REMOVED***,
   "source": [
    "if result > 0.4:\n",
    "    print(\"simple\")\n",
    "else:\n",
    "    print(\"complex\")"
   ]
  ***REMOVED***,
  ***REMOVED***
   "cell_type": "code",
   "execution_count": null,
   "metadata": ***REMOVED***
    "collapsed": true
   ***REMOVED***,
   "outputs": [],
   "source": []
  ***REMOVED***
 ],
 "metadata": ***REMOVED***
  "kernelspec": ***REMOVED***
   "display_name": "Python 3",
   "language": "python",
   "name": "python3"
  ***REMOVED***,
  "language_info": ***REMOVED***
   "codemirror_mode": ***REMOVED***
    "name": "ipython",
    "version": 3
   ***REMOVED***,
   "file_extension": ".py",
   "mimetype": "text/x-python",
   "name": "python",
   "nbconvert_exporter": "python",
   "pygments_lexer": "ipython3",
   "version": "3.6.3"
  ***REMOVED***
 ***REMOVED***,
 "nbformat": 4,
 "nbformat_minor": 2
***REMOVED***
