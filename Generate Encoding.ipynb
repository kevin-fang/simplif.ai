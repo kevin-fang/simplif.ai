{
 "cells": [
  {
   "cell_type": "code",
   "execution_count": 148,
   "metadata": {
    "collapsed": true
   },
   "outputs": [],
   "source": [
    "import numpy as np"
   ]
  },
  {
   "cell_type": "code",
   "execution_count": 149,
   "metadata": {
    "collapsed": true
   },
   "outputs": [],
   "source": [
    "simple_words = []\n",
    "with open('generated_data/simple_words.txt') as f:\n",
    "    for line in f:\n",
    "        simple_words.append(line.strip())\n",
    "        \n",
    "complex_words = []\n",
    "with open('generated_data/complex_words.txt') as f:\n",
    "    for line in f:\n",
    "        complex_words.append(line.strip())"
   ]
  },
  {
   "cell_type": "code",
   "execution_count": 150,
   "metadata": {
    "collapsed": true
   },
   "outputs": [],
   "source": [
    "num_words_keep = 10000"
   ]
  },
  {
   "cell_type": "code",
   "execution_count": 151,
   "metadata": {
    "collapsed": true
   },
   "outputs": [],
   "source": [
    "word_occurrences = {}\n",
    "for word in simple_words:\n",
    "    if word in word_occurrences:\n",
    "        word_occurrences[word] += 1\n",
    "    else:\n",
    "        word_occurrences[word] = 1\n",
    "\n",
    "for word in complex_words:\n",
    "    if word in word_occurrences:\n",
    "        word_occurrences[word] += 1\n",
    "    else:\n",
    "        word_occurrences[word] = 1"
   ]
  },
  {
   "cell_type": "code",
   "execution_count": 152,
   "metadata": {},
   "outputs": [
    {
     "data": {
      "text/plain": [
       "19378"
      ]
     },
     "execution_count": 152,
     "metadata": {},
     "output_type": "execute_result"
    }
   ],
   "source": [
    "len(word_occurrences)"
   ]
  },
  {
   "cell_type": "code",
   "execution_count": 153,
   "metadata": {
    "collapsed": true
   },
   "outputs": [],
   "source": [
    "words = []\n",
    "for word in word_occurrences:\n",
    "    words.append((word, word_occurrences[word]))\n",
    "\n",
    "words = sorted(words, key=lambda x: x[1], reverse=True)"
   ]
  },
  {
   "cell_type": "code",
   "execution_count": 154,
   "metadata": {
    "collapsed": true
   },
   "outputs": [],
   "source": [
    "mappings = []\n",
    "for i, word in enumerate(words):\n",
    "    mappings.append((i, word[0]))"
   ]
  },
  {
   "cell_type": "code",
   "execution_count": 155,
   "metadata": {
    "collapsed": true
   },
   "outputs": [],
   "source": [
    "accepted = mappings[:num_words_keep]"
   ]
  },
  {
   "cell_type": "code",
   "execution_count": 156,
   "metadata": {
    "scrolled": true
   },
   "outputs": [
    {
     "data": {
      "text/plain": [
       "10000"
      ]
     },
     "execution_count": 156,
     "metadata": {},
     "output_type": "execute_result"
    }
   ],
   "source": [
    "len(accepted)"
   ]
  },
  {
   "cell_type": "code",
   "execution_count": 157,
   "metadata": {
    "collapsed": true
   },
   "outputs": [],
   "source": [
    "reverse_dict = {}\n",
    "forward_dict = {}\n",
    "for item in accepted:\n",
    "    reverse_dict[item[1]] = item[0]\n",
    "    forward_dict[item[0]] = item[1]"
   ]
  },
  {
   "cell_type": "code",
   "execution_count": 158,
   "metadata": {
    "collapsed": true,
    "scrolled": true
   },
   "outputs": [],
   "source": [
    "import pickle\n",
    "\n",
    "with open('generated_data/word_to_num.pkl', 'wb') as fp:\n",
    "    pickle.dump(reverse_dict, fp)\n",
    "    \n",
    "with open('generated_data/num_to_word.pkl', 'wb') as fp:\n",
    "    pickle.dump(forward_dict, fp)"
   ]
  },
  {
   "cell_type": "code",
   "execution_count": 159,
   "metadata": {
    "collapsed": true
   },
   "outputs": [],
   "source": [
    "with open('generated_data/simple_sentences.txt') as f:\n",
    "    simple_sentences = f.read().split(\"||\")\n",
    "    \n",
    "with open('generated_data/complex_sentences.txt') as f:\n",
    "    complex_sentences = f.read().split(\"||\")"
   ]
  },
  {
   "cell_type": "code",
   "execution_count": 160,
   "metadata": {
    "collapsed": true
   },
   "outputs": [],
   "source": [
    "simple_sentence_split = []\n",
    "for i, sentence in enumerate(simple_sentences):\n",
    "    simple_sentence_split.extend(simple_sentences[i].split('.'))\n",
    "    \n",
    "complex_sentence_split = []\n",
    "for i, sentence in enumerate(complex_sentences):\n",
    "    complex_sentence_split.extend(complex_sentences[i].split('.'))"
   ]
  },
  {
   "cell_type": "code",
   "execution_count": 161,
   "metadata": {
    "collapsed": true
   },
   "outputs": [],
   "source": [
    "simple_sentences_encoded = []\n",
    "\n",
    "for i, sentence in enumerate(simple_sentence_split):\n",
    "    tmp_encoded = []\n",
    "    for word in sentence.split(\" \"):\n",
    "        if word in reverse_dict:\n",
    "            tmp_encoded.append(reverse_dict[word])\n",
    "    if len(tmp_encoded) > 0:\n",
    "        simple_sentences_encoded.append(tmp_encoded)\n",
    "        \n",
    "complex_sentences_encoded = []\n",
    "\n",
    "for i, sentence in enumerate(complex_sentence_split):\n",
    "    tmp_encoded = []\n",
    "    for word in sentence.split(\" \"):\n",
    "        if word in reverse_dict:\n",
    "            tmp_encoded.append(reverse_dict[word])\n",
    "    if len(tmp_encoded) > 0:\n",
    "        complex_sentences_encoded.append(tmp_encoded)"
   ]
  },
  {
   "cell_type": "code",
   "execution_count": 162,
   "metadata": {
    "collapsed": true
   },
   "outputs": [],
   "source": [
    "simple_array = np.array(simple_sentences_encoded)\n",
    "np.save(\"generated_data/simple.npy\", simple_array)"
   ]
  },
  {
   "cell_type": "code",
   "execution_count": 163,
   "metadata": {
    "collapsed": true
   },
   "outputs": [],
   "source": [
    "complex_array = np.array(simple_sentences_encoded)\n",
    "np.save(\"generated_data/complex.npy\", complex_array)"
   ]
  },
  {
   "cell_type": "code",
   "execution_count": null,
   "metadata": {
    "collapsed": true
   },
   "outputs": [],
   "source": []
  }
 ],
 "metadata": {
  "kernelspec": {
   "display_name": "Python 3",
   "language": "python",
   "name": "python3"
  },
  "language_info": {
   "codemirror_mode": {
    "name": "ipython",
    "version": 3
   },
   "file_extension": ".py",
   "mimetype": "text/x-python",
   "name": "python",
   "nbconvert_exporter": "python",
   "pygments_lexer": "ipython3",
   "version": "3.6.3"
  }
 },
 "nbformat": 4,
 "nbformat_minor": 2
}
