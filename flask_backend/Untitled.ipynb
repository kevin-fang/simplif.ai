***REMOVED***
 "cells": [
  ***REMOVED***
   "cell_type": "code",
   "execution_count": 1,
   "metadata": ***REMOVED******REMOVED***,
   "outputs": [],
   "source": [
    "import sys\n",
    "\n",
    "from google.cloud import automl_v1beta1\n",
    "from google.cloud.automl_v1beta1.proto import service_pb2\n",
    "import os\n",
    "os.environ['GOOGLE_APPLICATION_CREDENTIALS']='./simplif-ai.json'\n",
    "def get_prediction(content):\n",
    "    model_id = \"TCN4903880984073480682\"\n",
    "    project_id = \"simplif-ai-224215\"\n",
    "    prediction_client = automl_v1beta1.PredictionServiceClient()\n",
    "    name = 'projects/***REMOVED******REMOVED***/locations/us-central1/models/***REMOVED******REMOVED***'.format(project_id, model_id)\n",
    "    payload = ***REMOVED***'text_snippet': ***REMOVED***'content': content, 'mime_type': 'text/plain' ***REMOVED******REMOVED***\n",
    "    params = ***REMOVED******REMOVED***\n",
    "    request = prediction_client.predict(name, payload, params)\n",
    "    #print(type(request.classif))\n",
    "    return request  # waits till request is returned\n",
    "\n",
    "res = get_prediction(\"this is a wonderful test\")"
   ]
  ***REMOVED***,
  ***REMOVED***
   "cell_type": "code",
   "execution_count": 8,
   "metadata": ***REMOVED******REMOVED***,
   "outputs": [
    ***REMOVED***
     "data": ***REMOVED***
      "text/plain": [
       "0.1390344500541687"
      ]
     ***REMOVED***,
     "execution_count": 8,
     "metadata": ***REMOVED******REMOVED***,
     "output_type": "execute_result"
    ***REMOVED***
   ],
   "source": [
    "res.payload[0].classification.score"
   ]
  ***REMOVED***,
  ***REMOVED***
   "cell_type": "code",
   "execution_count": 9,
   "metadata": ***REMOVED******REMOVED***,
   "outputs": [
    ***REMOVED***
     "data": ***REMOVED***
      "text/plain": [
       "0.8609655499458313"
      ]
     ***REMOVED***,
     "execution_count": 9,
     "metadata": ***REMOVED******REMOVED***,
     "output_type": "execute_result"
    ***REMOVED***
   ],
   "source": [
    "res.payload[1].classification.score"
   ]
  ***REMOVED***,
  ***REMOVED***
   "cell_type": "code",
   "execution_count": null,
   "metadata": ***REMOVED***
    "collapsed": true
   ***REMOVED***,
   "outputs": [],
   "source": []
  ***REMOVED***
 ],
 "metadata": ***REMOVED***
  "kernelspec": ***REMOVED***
   "display_name": "Python 3",
   "language": "python",
   "name": "python3"
  ***REMOVED***,
  "language_info": ***REMOVED***
   "codemirror_mode": ***REMOVED***
    "name": "ipython",
    "version": 3
   ***REMOVED***,
   "file_extension": ".py",
   "mimetype": "text/x-python",
   "name": "python",
   "nbconvert_exporter": "python",
   "pygments_lexer": "ipython3",
   "version": "3.6.3"
  ***REMOVED***
 ***REMOVED***,
 "nbformat": 4,
 "nbformat_minor": 2
***REMOVED***
