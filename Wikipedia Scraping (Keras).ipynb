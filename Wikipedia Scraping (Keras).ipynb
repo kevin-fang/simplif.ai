***REMOVED***
 "cells": [
  ***REMOVED***
   "cell_type": "code",
   "execution_count": 50,
   "metadata": ***REMOVED***
    "collapsed": true
   ***REMOVED***,
   "outputs": [],
   "source": [
    "import wikipediaapi\n",
    "import re\n",
    "\n",
    "wiki = wikipediaapi.Wikipedia(\n",
    "        language='en',\n",
    "        extract_format=wikipediaapi.ExtractFormat.WIKI\n",
    ")"
   ]
  ***REMOVED***,
  ***REMOVED***
   "cell_type": "code",
   "execution_count": 51,
   "metadata": ***REMOVED***
    "collapsed": true
   ***REMOVED***,
   "outputs": [],
   "source": [
    "import json\n",
    "from pprint import pprint\n",
    "\n",
    "with open('articles.json') as f:\n",
    "    data = json.load(f)"
   ]
  ***REMOVED***,
  ***REMOVED***
   "cell_type": "code",
   "execution_count": 52,
   "metadata": ***REMOVED******REMOVED***,
   "outputs": [
    ***REMOVED***
     "data": ***REMOVED***
      "text/plain": [
       "['Donald_Trump',\n",
       " 'United_States',\n",
       " 'Bitcoin',\n",
       " 'Queen_Victoria',\n",
       " 'Elon_Musk',\n",
       " 'Facebook',\n",
       " 'Barack_Obama',\n",
       " 'YouTube',\n",
       " 'Aristotle',\n",
       " 'Statistics',\n",
       " 'Chemistry',\n",
       " 'Monkey',\n",
       " 'Chess',\n",
       " 'Python_(programming_language)',\n",
       " 'Comedy',\n",
       " 'Trial',\n",
       " 'Executive_(government)',\n",
       " 'State',\n",
       " 'Human_rights',\n",
       " 'Art',\n",
       " 'Social_capital',\n",
       " 'Parasitism',\n",
       " 'Wikipedia',\n",
       " 'Document',\n",
       " 'Book',\n",
       " 'Composer',\n",
       " 'Classical_music',\n",
       " 'Serenade',\n",
       " 'Computer',\n",
       " 'President',\n",
       " 'Business',\n",
       " 'Law',\n",
       " 'Government',\n",
       " 'Prison',\n",
       " 'Medicine',\n",
       " 'Disease',\n",
       " 'Clothing',\n",
       " 'Japan',\n",
       " 'Middle_Ages',\n",
       " 'Animal',\n",
       " 'Fiction',\n",
       " 'Library',\n",
       " 'Game',\n",
       " 'Video_game',\n",
       " 'University_of_Cambridge',\n",
       " 'History']"
      ]
     ***REMOVED***,
     "execution_count": 52,
     "metadata": ***REMOVED******REMOVED***,
     "output_type": "execute_result"
    ***REMOVED***
   ],
   "source": [
    "articles = data['articles']\n",
    "articles"
   ]
  ***REMOVED***,
  ***REMOVED***
   "cell_type": "code",
   "execution_count": 53,
   "metadata": ***REMOVED***
    "collapsed": true
   ***REMOVED***,
   "outputs": [],
   "source": [
    "def save_sections(sections, lst, level=0):\n",
    "        for s in sections:\n",
    "            skip = [\"References\", \"Sources\", \"Further reading\", \"External links\", \"See also\", \"Other websites\"]\n",
    "            if not s.title in skip:\n",
    "                lst.append(s.text.strip())\n",
    "                save_sections(s.sections, lst, level + 1)"
   ]
  ***REMOVED***,
  ***REMOVED***
   "cell_type": "code",
   "execution_count": 54,
   "metadata": ***REMOVED***
    "collapsed": true
   ***REMOVED***,
   "outputs": [],
   "source": [
    "def get_simplified_page(wiki):\n",
    "    return wiki.langlinks['simple']"
   ]
  ***REMOVED***,
  ***REMOVED***
   "cell_type": "code",
   "execution_count": 55,
   "metadata": ***REMOVED***
    "collapsed": true
   ***REMOVED***,
   "outputs": [],
   "source": [
    "from nltk.stem import WordNetLemmatizer\n",
    "lemmatizer = WordNetLemmatizer()"
   ]
  ***REMOVED***,
  ***REMOVED***
   "cell_type": "code",
   "execution_count": 61,
   "metadata": ***REMOVED******REMOVED***,
   "outputs": [
    ***REMOVED***
     "name": "stdout",
     "output_type": "stream",
     "text": [
      "Finished: Donald_Trump\n",
      "Finished: United_States\n",
      "Finished: Bitcoin\n",
      "Finished: Queen_Victoria\n",
      "Finished: Elon_Musk\n",
      "Finished: Facebook\n",
      "Finished: Barack_Obama\n",
      "Finished: YouTube\n",
      "Finished: Aristotle\n",
      "Finished: Statistics\n",
      "Finished: Chemistry\n",
      "Finished: Monkey\n",
      "Finished: Chess\n",
      "Finished: Python_(programming_language)\n",
      "Finished: Comedy\n",
      "Finished: Trial\n",
      "Finished: Executive_(government)\n",
      "Finished: State\n",
      "Finished: Human_rights\n",
      "Finished: Art\n",
      "Finished: Social_capital\n",
      "Finished: Parasitism\n",
      "Finished: Wikipedia\n",
      "Finished: Document\n",
      "Finished: Book\n",
      "Finished: Composer\n",
      "Finished: Classical_music\n",
      "Finished: Serenade\n",
      "Finished: Computer\n",
      "Finished: President\n",
      "Finished: Business\n",
      "Finished: Law\n",
      "Finished: Government\n",
      "Finished: Prison\n",
      "Finished: Medicine\n",
      "Finished: Disease\n",
      "Finished: Clothing\n",
      "Finished: Japan\n",
      "Finished: Middle_Ages\n",
      "Finished: Animal\n",
      "Finished: Fiction\n",
      "Finished: Library\n",
      "Finished: Game\n",
      "Finished: Video_game\n",
      "Finished: University_of_Cambridge\n",
      "Finished: History\n"
     ]
    ***REMOVED***
   ],
   "source": [
    "all_complex = []\n",
    "all_simple = []\n",
    "for article in articles:\n",
    "    \n",
    "    # scrape wikipedia page\n",
    "    page = wiki.page(article)\n",
    "    complex_sections = []\n",
    "    save_sections(page.sections, complex_sections)\n",
    "    \n",
    "    simple_sections = []\n",
    "    save_sections(get_simplified_page(page).sections, simple_sections)\n",
    "    \n",
    "    def process_sentences(sections):\n",
    "        sections = \". \".join(sections) \\\n",
    "            .replace('\\n', ' ') \\\n",
    "            .replace('.', ' ')\n",
    "                    \n",
    "        remove_re = r'[!@#$%^&*()<>\"***REMOVED******REMOVED***|,+0-9~;`]'\n",
    "        sentences = re.sub(remove_re, '', sections)\n",
    "        sentences = sentences.split(' ')\n",
    "        \n",
    "        to_filter = ['', ',', '.', 'U', 'S', 's']\n",
    "        sentences = filter(lambda x: x not in to_filter, sentences)\n",
    "        sentences = filter(lemmatizer.lemmatize, sentences)\n",
    "        sentences = map(lambda x: x.strip(), sentences)\n",
    "        sentences = list(sentences)\n",
    "        return sentences\n",
    "    \n",
    "    complex_sentences = process_sentences(complex_sections)\n",
    "    #print(complex_sentences)\n",
    "\n",
    "    simple_sentences = process_sentences(simple_sections)\n",
    "    \n",
    "    all_complex.extend(complex_sentences[:len(simple_sentences)])\n",
    "    all_simple.extend(simple_sentences)\n",
    "#    print(complex_sentences)\n",
    "    print(\"Finished: ***REMOVED******REMOVED***\".format(article))"
   ]
  ***REMOVED***,
  ***REMOVED***
   "cell_type": "code",
   "execution_count": 62,
   "metadata": ***REMOVED******REMOVED***,
   "outputs": [
    ***REMOVED***
     "data": ***REMOVED***
      "text/plain": [
       "43968"
      ]
     ***REMOVED***,
     "execution_count": 62,
     "metadata": ***REMOVED******REMOVED***,
     "output_type": "execute_result"
    ***REMOVED***
   ],
   "source": [
    "len(all_complex)"
   ]
  ***REMOVED***,
  ***REMOVED***
   "cell_type": "code",
   "execution_count": 63,
   "metadata": ***REMOVED***
    "scrolled": true
   ***REMOVED***,
   "outputs": [
    ***REMOVED***
     "data": ***REMOVED***
      "text/plain": [
       "43973"
      ]
     ***REMOVED***,
     "execution_count": 63,
     "metadata": ***REMOVED******REMOVED***,
     "output_type": "execute_result"
    ***REMOVED***
   ],
   "source": [
    "len(all_simple)"
   ]
  ***REMOVED***,
  ***REMOVED***
   "cell_type": "code",
   "execution_count": 64,
   "metadata": ***REMOVED***
    "collapsed": true
   ***REMOVED***,
   "outputs": [],
   "source": [
    "with open('complex_words.txt', 'w') as file:\n",
    "    for i in all_complex[:len(all_simple)]:\n",
    "        file.write(i.lower() + '\\n')\n",
    "with open('simple_words.txt', 'w') as file:\n",
    "    for i in all_simple:\n",
    "        file.write(i.lower() + '\\n')"
   ]
  ***REMOVED***,
  ***REMOVED***
   "cell_type": "code",
   "execution_count": null,
   "metadata": ***REMOVED***
    "collapsed": true
   ***REMOVED***,
   "outputs": [],
   "source": []
  ***REMOVED***
 ],
 "metadata": ***REMOVED***
  "kernelspec": ***REMOVED***
   "display_name": "Python 3",
   "language": "python",
   "name": "python3"
  ***REMOVED***,
  "language_info": ***REMOVED***
   "codemirror_mode": ***REMOVED***
    "name": "ipython",
    "version": 3
   ***REMOVED***,
   "file_extension": ".py",
   "mimetype": "text/x-python",
   "name": "python",
   "nbconvert_exporter": "python",
   "pygments_lexer": "ipython3",
   "version": "3.6.3"
  ***REMOVED***
 ***REMOVED***,
 "nbformat": 4,
 "nbformat_minor": 2
***REMOVED***
